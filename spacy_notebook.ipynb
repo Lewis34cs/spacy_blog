{
 "cells": [
  {
   "cell_type": "code",
   "execution_count": 1,
   "metadata": {},
   "outputs": [],
   "source": [
    "import spacy"
   ]
  },
  {
   "cell_type": "code",
   "execution_count": 2,
   "metadata": {},
   "outputs": [],
   "source": [
    "nlp = spacy.load('en_core_web_sm')"
   ]
  },
  {
   "cell_type": "code",
   "execution_count": 42,
   "metadata": {
    "scrolled": true
   },
   "outputs": [
    {
     "name": "stdout",
     "output_type": "stream",
     "text": [
      "Actual text: SpaCy      Part of Speech: PROPN      Syntatic dependency: nsubj     \n",
      "Actual text: is         Part of Speech: VERB       Syntatic dependency: ROOT      \n",
      "Actual text: a          Part of Speech: DET        Syntatic dependency: det       \n",
      "Actual text: library    Part of Speech: NOUN       Syntatic dependency: attr      \n",
      "Actual text: for        Part of Speech: ADP        Syntatic dependency: prep      \n",
      "Actual text: advanced   Part of Speech: ADJ        Syntatic dependency: amod      \n",
      "Actual text: Natural    Part of Speech: PROPN      Syntatic dependency: compound  \n",
      "Actual text: Language   Part of Speech: PROPN      Syntatic dependency: compound  \n",
      "Actual text: Processing Part of Speech: PROPN      Syntatic dependency: pobj      \n",
      "Actual text: in         Part of Speech: ADP        Syntatic dependency: prep      \n",
      "Actual text: Python     Part of Speech: PROPN      Syntatic dependency: pobj      \n",
      "Actual text: and        Part of Speech: CCONJ      Syntatic dependency: cc        \n",
      "Actual text: Cython     Part of Speech: PROPN      Syntatic dependency: conj      \n",
      "Actual text: .          Part of Speech: PUNCT      Syntatic dependency: punct     \n",
      "Actual text: It         Part of Speech: PRON       Syntatic dependency: nsubjpass \n",
      "Actual text: 's         Part of Speech: VERB       Syntatic dependency: auxpass   \n",
      "Actual text: built      Part of Speech: VERB       Syntatic dependency: ROOT      \n",
      "Actual text: on         Part of Speech: ADP        Syntatic dependency: prep      \n",
      "Actual text: the        Part of Speech: DET        Syntatic dependency: det       \n",
      "Actual text: very       Part of Speech: ADV        Syntatic dependency: advmod    \n",
      "Actual text: latest     Part of Speech: ADJ        Syntatic dependency: amod      \n",
      "Actual text: research   Part of Speech: NOUN       Syntatic dependency: pobj      \n",
      "Actual text: ,          Part of Speech: PUNCT      Syntatic dependency: punct     \n",
      "Actual text: and        Part of Speech: CCONJ      Syntatic dependency: cc        \n",
      "Actual text: was        Part of Speech: VERB       Syntatic dependency: auxpass   \n",
      "Actual text: designed   Part of Speech: VERB       Syntatic dependency: conj      \n",
      "Actual text: from       Part of Speech: ADP        Syntatic dependency: prep      \n",
      "Actual text: day        Part of Speech: NOUN       Syntatic dependency: pobj      \n",
      "Actual text: one        Part of Speech: NUM        Syntatic dependency: nummod    \n",
      "Actual text: to         Part of Speech: PART       Syntatic dependency: aux       \n",
      "Actual text: be         Part of Speech: VERB       Syntatic dependency: auxpass   \n",
      "Actual text: used       Part of Speech: VERB       Syntatic dependency: relcl     \n",
      "Actual text: in         Part of Speech: ADP        Syntatic dependency: prep      \n",
      "Actual text: real       Part of Speech: ADJ        Syntatic dependency: amod      \n",
      "Actual text: products   Part of Speech: NOUN       Syntatic dependency: pobj      \n",
      "Actual text: .          Part of Speech: PUNCT      Syntatic dependency: punct     \n",
      "Actual text: SpaCy      Part of Speech: PROPN      Syntatic dependency: nsubj     \n",
      "Actual text: comes      Part of Speech: VERB       Syntatic dependency: ROOT      \n",
      "Actual text: with       Part of Speech: ADP        Syntatic dependency: prep      \n",
      "Actual text: pretrained Part of Speech: VERB       Syntatic dependency: amod      \n",
      "Actual text: pipelines  Part of Speech: NOUN       Syntatic dependency: pobj      \n",
      "Actual text: and        Part of Speech: CCONJ      Syntatic dependency: cc        \n",
      "Actual text: currently  Part of Speech: ADV        Syntatic dependency: advmod    \n",
      "Actual text: supports   Part of Speech: VERB       Syntatic dependency: conj      \n",
      "Actual text: tokenization Part of Speech: NOUN       Syntatic dependency: dobj      \n",
      "Actual text: and        Part of Speech: CCONJ      Syntatic dependency: cc        \n",
      "Actual text: training   Part of Speech: NOUN       Syntatic dependency: conj      \n",
      "Actual text: for        Part of Speech: ADP        Syntatic dependency: prep      \n",
      "Actual text: 60         Part of Speech: NUM        Syntatic dependency: nummod    \n",
      "Actual text: +          Part of Speech: SYM        Syntatic dependency: cc        \n",
      "Actual text: languages  Part of Speech: NOUN       Syntatic dependency: pobj      \n",
      "Actual text: .          Part of Speech: PUNCT      Syntatic dependency: punct     \n",
      "Actual text: It         Part of Speech: PRON       Syntatic dependency: nsubj     \n",
      "Actual text: features   Part of Speech: VERB       Syntatic dependency: ROOT      \n",
      "Actual text: state      Part of Speech: NOUN       Syntatic dependency: nmod      \n",
      "Actual text: -          Part of Speech: PUNCT      Syntatic dependency: punct     \n",
      "Actual text: of         Part of Speech: ADP        Syntatic dependency: prep      \n",
      "Actual text: -          Part of Speech: PUNCT      Syntatic dependency: punct     \n",
      "Actual text: the        Part of Speech: DET        Syntatic dependency: det       \n",
      "Actual text: -          Part of Speech: PUNCT      Syntatic dependency: punct     \n",
      "Actual text: art        Part of Speech: NOUN       Syntatic dependency: pobj      \n",
      "Actual text: speed      Part of Speech: NOUN       Syntatic dependency: dobj      \n",
      "Actual text: and        Part of Speech: CCONJ      Syntatic dependency: cc        \n",
      "Actual text: neural     Part of Speech: ADJ        Syntatic dependency: amod      \n",
      "Actual text: network    Part of Speech: NOUN       Syntatic dependency: compound  \n",
      "Actual text: models     Part of Speech: NOUN       Syntatic dependency: conj      \n",
      "Actual text: for        Part of Speech: ADP        Syntatic dependency: prep      \n",
      "Actual text: tagging    Part of Speech: VERB       Syntatic dependency: pobj      \n",
      "Actual text: ,          Part of Speech: PUNCT      Syntatic dependency: punct     \n",
      "Actual text: parsing    Part of Speech: VERB       Syntatic dependency: conj      \n",
      "Actual text: ,          Part of Speech: PUNCT      Syntatic dependency: punct     \n",
      "Actual text: named      Part of Speech: VERB       Syntatic dependency: conj      \n",
      "Actual text: entity     Part of Speech: NOUN       Syntatic dependency: compound  \n",
      "Actual text: recognition Part of Speech: NOUN       Syntatic dependency: oprd      \n",
      "Actual text: ,          Part of Speech: PUNCT      Syntatic dependency: punct     \n",
      "Actual text: text       Part of Speech: NOUN       Syntatic dependency: compound  \n",
      "Actual text: classification Part of Speech: NOUN       Syntatic dependency: conj      \n",
      "Actual text: and        Part of Speech: CCONJ      Syntatic dependency: cc        \n",
      "Actual text: more       Part of Speech: ADJ        Syntatic dependency: amod      \n",
      "Actual text: ,          Part of Speech: PUNCT      Syntatic dependency: punct     \n",
      "Actual text: multi      Part of Speech: ADJ        Syntatic dependency: amod      \n",
      "Actual text: -          Part of Speech: PUNCT      Syntatic dependency: punct     \n",
      "Actual text: task       Part of Speech: NOUN       Syntatic dependency: compound  \n",
      "Actual text: learning   Part of Speech: NOUN       Syntatic dependency: conj      \n",
      "Actual text: with       Part of Speech: ADP        Syntatic dependency: prep      \n",
      "Actual text: pretrained Part of Speech: VERB       Syntatic dependency: amod      \n",
      "Actual text: transformers Part of Speech: NOUN       Syntatic dependency: pobj      \n",
      "Actual text: like       Part of Speech: ADP        Syntatic dependency: prep      \n",
      "Actual text: BERT       Part of Speech: PROPN      Syntatic dependency: pobj      \n",
      "Actual text: ,          Part of Speech: PUNCT      Syntatic dependency: punct     \n",
      "Actual text: as         Part of Speech: ADV        Syntatic dependency: advmod    \n",
      "Actual text: well       Part of Speech: ADV        Syntatic dependency: advmod    \n",
      "Actual text: as         Part of Speech: ADP        Syntatic dependency: cc        \n",
      "Actual text: a          Part of Speech: DET        Syntatic dependency: det       \n",
      "Actual text: production Part of Speech: NOUN       Syntatic dependency: npadvmod  \n",
      "Actual text: -          Part of Speech: PUNCT      Syntatic dependency: punct     \n",
      "Actual text: ready      Part of Speech: ADJ        Syntatic dependency: amod      \n",
      "Actual text: training   Part of Speech: NOUN       Syntatic dependency: compound  \n",
      "Actual text: system     Part of Speech: NOUN       Syntatic dependency: conj      \n",
      "Actual text: and        Part of Speech: CCONJ      Syntatic dependency: cc        \n",
      "Actual text: easy       Part of Speech: ADJ        Syntatic dependency: amod      \n",
      "Actual text: model      Part of Speech: NOUN       Syntatic dependency: compound  \n",
      "Actual text: packaging  Part of Speech: NOUN       Syntatic dependency: conj      \n",
      "Actual text: ,          Part of Speech: PUNCT      Syntatic dependency: punct     \n",
      "Actual text: deployment Part of Speech: NOUN       Syntatic dependency: conj      \n",
      "Actual text: and        Part of Speech: CCONJ      Syntatic dependency: cc        \n",
      "Actual text: workflow   Part of Speech: ADJ        Syntatic dependency: amod      \n",
      "Actual text: management Part of Speech: NOUN       Syntatic dependency: conj      \n",
      "Actual text: .          Part of Speech: PUNCT      Syntatic dependency: punct     \n",
      "Actual text: SpaCy      Part of Speech: PROPN      Syntatic dependency: nsubj     \n",
      "Actual text: is         Part of Speech: VERB       Syntatic dependency: ROOT      \n",
      "Actual text: commercial Part of Speech: ADJ        Syntatic dependency: amod      \n",
      "Actual text: open       Part of Speech: ADJ        Syntatic dependency: amod      \n",
      "Actual text: -          Part of Speech: PUNCT      Syntatic dependency: punct     \n",
      "Actual text: source     Part of Speech: NOUN       Syntatic dependency: compound  \n",
      "Actual text: software   Part of Speech: NOUN       Syntatic dependency: attr      \n",
      "Actual text: ,          Part of Speech: PUNCT      Syntatic dependency: punct     \n",
      "Actual text: released   Part of Speech: VERB       Syntatic dependency: acl       \n",
      "Actual text: under      Part of Speech: ADP        Syntatic dependency: prep      \n",
      "Actual text: the        Part of Speech: DET        Syntatic dependency: det       \n",
      "Actual text: MIT        Part of Speech: PROPN      Syntatic dependency: compound  \n",
      "Actual text: license    Part of Speech: NOUN       Syntatic dependency: pobj      \n",
      "Actual text: .          Part of Speech: PUNCT      Syntatic dependency: punct     \n"
     ]
    }
   ],
   "source": [
    "# Create a Doc object with a unicode string (u-string)\n",
    "doc = nlp(u\"SpaCy is a library for advanced Natural Language Processing in Python \\\n",
    "and Cython. It's built on the very latest research, and was designed from day \\\n",
    "one to be used in real products. SpaCy comes with pretrained pipelines and currently \\\n",
    "supports tokenization and training for 60+ languages. It features state-of-the-art \\\n",
    "speed and neural network models for tagging, parsing, named entity recognition, \\\n",
    "text classification and more, multi-task learning with pretrained transformers \\\n",
    "like BERT, as well as a production-ready training system and easy model packaging, \\\n",
    "deployment and workflow management. SpaCy is commercial open-source software, released \\\n",
    "under the MIT license.\")\n",
    "\n",
    "# Print each token separately\n",
    "for token in doc:\n",
    "    print(f\"Actual text: {token.text:{10}} Part of Speech: {token.pos_:{10}} Syntatic dependency: {token.dep_:{10}}\")"
   ]
  },
  {
   "cell_type": "markdown",
   "metadata": {},
   "source": [
    "Checking to see what components are currently existing within the nlp pipeline"
   ]
  },
  {
   "cell_type": "code",
   "execution_count": 43,
   "metadata": {
    "scrolled": true
   },
   "outputs": [
    {
     "data": {
      "text/plain": [
       "[('tagger', <spacy.pipeline.Tagger at 0x19cdb7ab708>),\n",
       " ('parser', <spacy.pipeline.DependencyParser at 0x19cdb7aa528>),\n",
       " ('ner', <spacy.pipeline.EntityRecognizer at 0x19cdb7aaac8>)]"
      ]
     },
     "execution_count": 43,
     "metadata": {},
     "output_type": "execute_result"
    }
   ],
   "source": [
    "nlp.pipeline"
   ]
  },
  {
   "cell_type": "code",
   "execution_count": 44,
   "metadata": {},
   "outputs": [
    {
     "data": {
      "text/plain": [
       "['tagger', 'parser', 'ner']"
      ]
     },
     "execution_count": 44,
     "metadata": {},
     "output_type": "execute_result"
    }
   ],
   "source": [
    "nlp.pipe_names"
   ]
  },
  {
   "cell_type": "markdown",
   "metadata": {},
   "source": [
    "If we are not sure what the abbreviation of the \"Part of speech' or the 'Syntatic dependency' is, we can use the .explain() method to get a better understanding:"
   ]
  },
  {
   "cell_type": "code",
   "execution_count": 45,
   "metadata": {
    "scrolled": true
   },
   "outputs": [
    {
     "name": "stdout",
     "output_type": "stream",
     "text": [
      "Part of speech: proper noun\n",
      "Syntatic Dependency: nominal subject\n"
     ]
    }
   ],
   "source": [
    "print(f\"Part of speech: {spacy.explain(doc[0].pos_)}\\n\"\n",
    "      f\"Syntatic Dependency: {spacy.explain(doc[0].dep_)}\")"
   ]
  },
  {
   "cell_type": "markdown",
   "metadata": {},
   "source": [
    "spaCy is also able to detect and separate sentences in a Doc object."
   ]
  },
  {
   "cell_type": "code",
   "execution_count": 51,
   "metadata": {},
   "outputs": [
    {
     "name": "stdout",
     "output_type": "stream",
     "text": [
      "1. SpaCy is a library for advanced Natural Language Processing in Python and Cython.\n",
      "2. It's built on the very latest research, and was designed from day one to be used in real products.\n",
      "3. SpaCy comes with pretrained pipelines and currently supports tokenization and training for 60+ languages.\n",
      "4. It features state-of-the-art speed and neural network models for tagging, parsing, named entity recognition, text classification and more, multi-task learning with pretrained transformers like BERT, as well as a production-ready training system and easy model packaging, deployment and workflow management.\n",
      "5. SpaCy is commercial open-source software, released under the MIT license.\n"
     ]
    }
   ],
   "source": [
    "for i, sentence in enumerate(doc.sents):\n",
    "    print(f\"{i+1}. {sentence}\")"
   ]
  },
  {
   "cell_type": "code",
   "execution_count": null,
   "metadata": {},
   "outputs": [],
   "source": []
  }
 ],
 "metadata": {
  "kernelspec": {
   "display_name": "Python [conda env:nlp_course]",
   "language": "python",
   "name": "conda-env-nlp_course-py"
  },
  "language_info": {
   "codemirror_mode": {
    "name": "ipython",
    "version": 3
   },
   "file_extension": ".py",
   "mimetype": "text/x-python",
   "name": "python",
   "nbconvert_exporter": "python",
   "pygments_lexer": "ipython3",
   "version": "3.7.10"
  },
  "toc": {
   "base_numbering": 1,
   "nav_menu": {},
   "number_sections": true,
   "sideBar": true,
   "skip_h1_title": false,
   "title_cell": "Table of Contents",
   "title_sidebar": "Contents",
   "toc_cell": false,
   "toc_position": {},
   "toc_section_display": true,
   "toc_window_display": false
  }
 },
 "nbformat": 4,
 "nbformat_minor": 2
}
